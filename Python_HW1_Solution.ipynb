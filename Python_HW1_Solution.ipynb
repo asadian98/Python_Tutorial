{
 "cells": [
  {
   "attachments": {
    "besmellah.jpg": {
     "image/jpeg": "[encoded data removed]"
    }
   },
   "cell_type": "markdown",
   "metadata": {},
   "source": [
    "![besmellah.jpg](attachment:besmellah.jpg)\n",
    "<h1 align=\"center\">An Introduction to Machine Learning - 25737</h1>\n",
    "<h4 align=\"center\">Dr. Hoda Mohammadzade</h4>\n",
    "<h4 align=\"center\">Sharif University of Technology, Fall 2021</h4>\n",
    "\n",
    "# \n",
    "\n",
    "# Problem Set 01 - Solution\n",
    "\n",
    "\n",
    "\n"
   ]
  },
  {
   "cell_type": "markdown",
   "metadata": {},
   "source": [
    "# 1.\n",
    ">What are the lengths of the following lists and strings below? Fill in the variable `lengths` with your predictions. (Try to make a prediction for each list *without* just calling `len()` on it.)"
   ]
  },
  {
   "cell_type": "code",
   "execution_count": 3,
   "metadata": {},
   "outputs": [],
   "source": [
    "a = [1, 2, 3]\n",
    "b = [1, [2, 3]]\n",
    "c = []\n",
    "d = [1, 2, 3][1:]\n",
    "e = 'it\\'s ok'\n",
    "f = \"\"\n",
    "g = \"\"\"hey\"\"\"\n",
    "h = '\\n'\n",
    "\n",
    "# Put your predictions in the list below. Lengths should contain 8 numbers, the\n",
    "# first being the length of a, the second being the length of b and so on.\n",
    "### START CODE HERE ###\n",
    "lengths = [3, 2, 0, 2, 7, 0 , 3, 1]\n",
    "### END CODE HERE ###"
   ]
  },
  {
   "cell_type": "markdown",
   "metadata": {},
   "source": [
    "# 2. \n",
    ">Swap the values to which a and b refer."
   ]
  },
  {
   "cell_type": "code",
   "execution_count": 4,
   "metadata": {},
   "outputs": [
    {
     "name": "stdout",
     "output_type": "stream",
     "text": [
      "[3, 2, 1]\n",
      "[1, 2, 3]\n"
     ]
    }
   ],
   "source": [
    "a = [1, 2, 3]\n",
    "b = [3, 2, 1]\n",
    "\n",
    "### START CODE HERE ###\n",
    "b, a = a, b\n",
    "\n",
    "print(a)\n",
    "print(b)\n",
    "### END CODE HERE ###"
   ]
  },
  {
   "cell_type": "markdown",
   "metadata": {},
   "source": [
    "# 3. \n",
    ">Which of the two variables below has the smallest absolute value? Use Python's built-in functions."
   ]
  },
  {
   "cell_type": "code",
   "execution_count": 5,
   "metadata": {},
   "outputs": [
    {
     "name": "stdout",
     "output_type": "stream",
     "text": [
      "5\n"
     ]
    }
   ],
   "source": [
    "x = -10\n",
    "y = 5\n",
    "\n",
    "### START CODE HERE ###\n",
    "smallest_abs = min(abs(x),abs(y))\n",
    "print(smallest_abs)\n",
    "### END CODE HERE ###"
   ]
  },
  {
   "cell_type": "markdown",
   "metadata": {},
   "source": [
    "# 4. \n",
    "\n",
    "> A simple exercise! Run the cell below and try to explain the results for yourself:\n",
    "\n"
   ]
  },
  {
   "cell_type": "code",
   "execution_count": 17,
   "metadata": {},
   "outputs": [
    {
     "name": "stdout",
     "output_type": "stream",
     "text": [
      "1.0\n",
      "0.0\n",
      "1.0\n",
      "1e+20\n"
     ]
    }
   ],
   "source": [
    "print( 1.0 + 1.0 - 1.0 )\n",
    "print( 1.0 + 1.0e20 - 1.0e20 )\n",
    "print( 1.0e20 - 1.0e20 + 1 )\n",
    "\n",
    "# check this:\n",
    "print(1.0 + 1.0e20)"
   ]
  },
  {
   "cell_type": "markdown",
   "metadata": {},
   "source": [
    "# 5.\n",
    ">Many programming languages have [`sign`](https://en.wikipedia.org/wiki/Sign_function) available as a built-in function. Python doesn't, but we can define our own! \n",
    "In the cell below, define a function called `sign` which takes a numerical argument and returns -1 if it's negative, 1 if it's positive, and 0 if it's 0."
   ]
  },
  {
   "cell_type": "code",
   "execution_count": 14,
   "metadata": {},
   "outputs": [
    {
     "name": "stdout",
     "output_type": "stream",
     "text": [
      "1\n",
      "-1\n",
      "0\n"
     ]
    }
   ],
   "source": [
    "def sign(x):\n",
    "    # (\"pass\" is a keyword that does literally nothing. We used it as a placeholder\n",
    "    # because after we begin a code block, Python requires at least one line of code)\n",
    "    if x > 0 :\n",
    "        return 1\n",
    "    elif x < 0 :\n",
    "        return -1\n",
    "    else:\n",
    "        return 0\n",
    "\n",
    "# You can try different examples to check your function:\n",
    "print(sign(2))\n",
    "print(sign(-2))\n",
    "print(sign(0))"
   ]
  },
  {
   "cell_type": "markdown",
   "metadata": {},
   "source": [
    "# 6. \n",
    ">Complete the body of the following function according to its docstring.\n",
    "\n",
    "HINT: Python has a built-in function `round`."
   ]
  },
  {
   "cell_type": "code",
   "execution_count": 13,
   "metadata": {},
   "outputs": [
    {
     "data": {
      "text/plain": [
       "10.0"
      ]
     },
     "execution_count": 13,
     "metadata": {},
     "output_type": "execute_result"
    }
   ],
   "source": [
    "def round_to_two_places(num):\n",
    "    \"\"\"Return the given number rounded to two decimal places. \n",
    "    \n",
    "    >>> round_to_two_places(3.14159)\n",
    "    3.14\n",
    "    \"\"\"\n",
    "    return round(num, 2)\n",
    "\n",
    "round_to_two_places(9.9999)"
   ]
  },
  {
   "cell_type": "markdown",
   "metadata": {},
   "source": [
    "The help for `round` says that `ndigits` (the second argument) may be negative.\n",
    "What do you think will happen when it is? Try an example in the cell below."
   ]
  },
  {
   "cell_type": "code",
   "execution_count": 22,
   "metadata": {},
   "outputs": [
    {
     "data": {
      "text/plain": [
       "200.0"
      ]
     },
     "execution_count": 22,
     "metadata": {},
     "output_type": "execute_result"
    }
   ],
   "source": [
    "round(232.4243, -2)"
   ]
  },
  {
   "cell_type": "markdown",
   "metadata": {},
   "source": [
    "# 7.\n",
    "> Write a function that evaluates the polynomial $${3x^2 − x + 2}$$"
   ]
  },
  {
   "cell_type": "code",
   "execution_count": 12,
   "metadata": {},
   "outputs": [
    {
     "data": {
      "text/plain": [
       "26"
      ]
     },
     "execution_count": 12,
     "metadata": {},
     "output_type": "execute_result"
    }
   ],
   "source": [
    "def polynomial(x):\n",
    "    return 3*x**2-x+2\n",
    "\n",
    "polynomial(3)"
   ]
  },
  {
   "cell_type": "markdown",
   "metadata": {},
   "source": [
    "# 8.\n",
    ">Complete the function below according to its docstring."
   ]
  },
  {
   "cell_type": "code",
   "execution_count": 9,
   "metadata": {},
   "outputs": [
    {
     "name": "stdout",
     "output_type": "stream",
     "text": [
      "None\n",
      "None\n",
      "2\n"
     ]
    }
   ],
   "source": [
    "def select_second(L):\n",
    "    \"\"\"Return the second element of the given list. If the list has no second\n",
    "    element, return None.\n",
    "    \"\"\"\n",
    "    if len(L) < 2:\n",
    "        return None\n",
    "    return L[1]\n",
    "\n",
    "print(select_second([]))\n",
    "print(select_second([1]))\n",
    "print(select_second([1, 2]))"
   ]
  },
  {
   "cell_type": "markdown",
   "metadata": {},
   "source": [
    "# 9.\n",
    ">We're using lists to record people who attended a class and what order they arrived in. For example, the following list represents a class with 7 students, in which 'Amirhossein' showed up first and 'Pedram' was the last to arrive:\n",
    "    \n",
    "> class_attendees = ['Amirhossein', 'Hadi', 'Fatemeh', 'Mahtab', 'Ali', 'Nasim', 'Pedram']\n",
    "\n",
    "> A student is considered 'fashionably late' if they arrived after at least half of the class's students. However, they must not be the very last student (that's taking it too far). In the above example, Ali and Nasim are the only students who were fashionably late.\n",
    "Complete the function below which takes a list of class attendees as well as a person, and tells us whether that person is fashionably late."
   ]
  },
  {
   "cell_type": "code",
   "execution_count": 23,
   "metadata": {},
   "outputs": [
    {
     "name": "stdout",
     "output_type": "stream",
     "text": [
      "True\n",
      "True\n",
      "True\n",
      "True\n",
      "False\n",
      "False\n",
      "False\n",
      "False\n",
      "False\n"
     ]
    }
   ],
   "source": [
    "def fashionably_late(arrivals, name):\n",
    "    \"\"\"Given an ordered list of arrivals to the class and a name, return whether the student with that\n",
    "    name was fashionably late.\n",
    "    \"\"\"\n",
    "    order = arrivals.index(name)\n",
    "    return order >= len(arrivals) / 2 and order != len(arrivals) - 1\n",
    "\n",
    "\n",
    "print(fashionably_late(['Amirhossein', 'Hadi', 'Fatemeh', 'Mahtab', 'Ali', 'Nasim', 'Pedram'], 'Ali'))\n",
    "print(fashionably_late(['Amirhossein', 'Hadi', 'Fatemeh', 'Mahtab', 'Ali', 'Nasim', 'Pedram'], 'Nasim'))\n",
    "print(fashionably_late(['Hadi', 'Fatemeh', 'Mahtab', 'Ali', 'Nasim', 'Pedram'], 'Nasim'))\n",
    "print(fashionably_late(['Hadi', 'Fatemeh', 'Mahtab', 'Ali', 'Nasim', 'Pedram'], 'Ali'))\n",
    "print(fashionably_late(['Hadi', 'Fatemeh', 'Mahtab', 'Ali', 'Nasim', 'Pedram'], 'Pedram'))\n",
    "\n",
    "print(fashionably_late(['Amirhossein', 'Hadi', 'Fatemeh', 'Mahtab', 'Ali', 'Nasim', 'Pedram'], 'Pedram'))\n",
    "print(fashionably_late(['Amirhossein', 'Hadi', 'Fatemeh', 'Mahtab', 'Ali', 'Nasim', 'Pedram'], 'Mahtab'))\n",
    "print(fashionably_late(['Amirhossein', 'Hadi', 'Fatemeh', 'Mahtab', 'Ali', 'Nasim', 'Pedram'], 'Fatemeh'))\n",
    "print(fashionably_late(['Hadi', 'Fatemeh', 'Mahtab', 'Ali', 'Nasim', 'Pedram'], 'Mahtab'))\n"
   ]
  },
  {
   "cell_type": "markdown",
   "metadata": {},
   "source": [
    "# 10.\n",
    ">Complete the function below according to its docstring."
   ]
  },
  {
   "cell_type": "code",
   "execution_count": 24,
   "metadata": {},
   "outputs": [
    {
     "name": "stdout",
     "output_type": "stream",
     "text": [
      "False\n",
      "False\n",
      "True\n",
      "False\n",
      "False\n",
      "True\n"
     ]
    }
   ],
   "source": [
    "def has_lucky_number(nums):\n",
    "    \"\"\"Return whether the given list of numbers is lucky. A lucky list contains\n",
    "    at least one number divisible by 7.\n",
    "    \"\"\"\n",
    "    for num in nums:\n",
    "        if num % 7 == 0:\n",
    "            return True\n",
    "    return False\n",
    "\n",
    "\n",
    "print(has_lucky_number([]))\n",
    "print(has_lucky_number([1]))\n",
    "print(has_lucky_number([1, 7]))\n",
    "\n",
    "# Here's a one-line version using a list comprehension with Python's any function\n",
    "# (you can read about what it does by calling help(any)):\n",
    "\n",
    "def has_lucky_number2(nums):\n",
    "    return any([num % 7 == 0 for num in nums])\n",
    "\n",
    "print(has_lucky_number2([]))\n",
    "print(has_lucky_number2([1]))\n",
    "print(has_lucky_number2([1, 7]))"
   ]
  },
  {
   "cell_type": "markdown",
   "metadata": {},
   "source": [
    "# 11.\n",
    "\n",
    ">Complete the body of the function below according to its docstring."
   ]
  },
  {
   "cell_type": "code",
   "execution_count": 25,
   "metadata": {},
   "outputs": [
    {
     "name": "stdout",
     "output_type": "stream",
     "text": [
      "True\n",
      "False\n",
      "True\n"
     ]
    }
   ],
   "source": [
    "def menu_is_boring(meals):\n",
    "    \"\"\"Given a list of meals served over some period of time, return True if the\n",
    "    same meal has ever been served two days in a row, and False otherwise.\n",
    "    \"\"\"\n",
    "    # Iterate over all indices of the list, except the last one\n",
    "    for i in range(len(meals)-1):\n",
    "        if meals[i] == meals[i+1]:\n",
    "            return True\n",
    "    return False\n",
    "\n",
    "# The key to our solution is the call to range. range(len(meals)) would give us all the indices of meals.\n",
    "# If we had used that range, the last iteration of the loop would be comparing the last element to the element after it,\n",
    "# which is... IndexError! range(len(meals)-1) gives us all the indices except the index of the last element.\n",
    "\n",
    "# But don't we need to check if meals is empty? Turns out that range(0) == range(-1) - they're both empty. \n",
    "# So if meals has length 0 or 1, we just won't do any iterations of our for loop.\n",
    "\n",
    "print(menu_is_boring(['AdasPolo', 'Mahi', 'Karafs', 'Karafs', 'Ghormesabzi']))\n",
    "print(menu_is_boring(['AdasPolo', 'Mahi', 'Karafs', 'Ghormesabzi', 'Karafs']))\n",
    "print(menu_is_boring(['AdasPolo', 'Mahi', 'Karafs', 'Karafs']))"
   ]
  },
  {
   "cell_type": "markdown",
   "metadata": {},
   "source": [
    "# 12.\n",
    "\n",
    "> There is a saying that \"Data scientists spend 80% of their time cleaning data, and 20% of their time complaining about cleaning data.\" Let's see if you can write a function to help clean US zip code data. Given a string, it should return whether or not that string represents a valid zip code. For our purposes, a valid zip code is any string consisting of exactly 5 digits.\n",
    "\n",
    "HINT: `str` has a method that will be useful here. Use `help(str)` to review a list of string methods."
   ]
  },
  {
   "cell_type": "code",
   "execution_count": 53,
   "metadata": {},
   "outputs": [
    {
     "name": "stdout",
     "output_type": "stream",
     "text": [
      "False\n",
      "True\n",
      "False\n",
      "False\n",
      "False\n"
     ]
    }
   ],
   "source": [
    "def is_valid_zip(zip_code):\n",
    "    \"\"\"Returns whether the input string is a valid (5 digit) zip code\n",
    "    \"\"\"\n",
    "    return len(zip_code) == 5 and zip_code.isdigit()\n",
    "\n",
    "print(is_valid_zip(\"1234\"))\n",
    "print(is_valid_zip(\"12345\"))\n",
    "print(is_valid_zip(\"123456\"))\n",
    "print(is_valid_zip(\"12345RRR\"))\n",
    "print(is_valid_zip(\"12345$#%$35\"))"
   ]
  },
  {
   "cell_type": "markdown",
   "metadata": {},
   "source": [
    "# 13.\n",
    ">Write a function my_max(x,y) that returns the maximum of x and y. \n",
    "\n",
    ">Do not use the max function, but use if instead in following two ways:\n",
    "\n",
    ">> (a) Use both if and else.\n",
    "\n",
    ">> (b) Use if but not else (nor elif)."
   ]
  },
  {
   "cell_type": "code",
   "execution_count": 31,
   "metadata": {},
   "outputs": [
    {
     "data": {
      "text/plain": [
       "3"
      ]
     },
     "execution_count": 31,
     "metadata": {},
     "output_type": "execute_result"
    }
   ],
   "source": [
    "def my_max_a(x, y):\n",
    "    if x > y:\n",
    "        return x\n",
    "    else:\n",
    "        return y\n",
    "    \n",
    "my_max_a(2, 3)"
   ]
  },
  {
   "cell_type": "code",
   "execution_count": 32,
   "metadata": {},
   "outputs": [
    {
     "data": {
      "text/plain": [
       "3"
      ]
     },
     "execution_count": 32,
     "metadata": {},
     "output_type": "execute_result"
    }
   ],
   "source": [
    "def my_max_b(x, y):\n",
    "    if x > y:\n",
    "        return x\n",
    "    return y\n",
    "\n",
    "my_max_b(2, 3)"
   ]
  },
  {
   "cell_type": "markdown",
   "metadata": {},
   "source": [
    "# 14.  \n",
    "\n",
    "> Let i,j = 1,...,n\n",
    "\n",
    ">>(a) Generate a list with elements [i,j].\n",
    "\n",
    ">>(b) Generate a list with elements [i,j] with i < j\n",
    "\n",
    ">>(c) Generate a list with elements i + j with both i and j prime and i > j\n",
    "\n",
    "Use List comprehensions"
   ]
  },
  {
   "cell_type": "code",
   "execution_count": 42,
   "metadata": {},
   "outputs": [
    {
     "name": "stdout",
     "output_type": "stream",
     "text": [
      "Part a:\n",
      "[[1, 1], [1, 2], [1, 3], [1, 4], [1, 5], [1, 6], [1, 7], [1, 8], [1, 9], [1, 10], [2, 1], [2, 2], [2, 3], [2, 4], [2, 5], [2, 6], [2, 7], [2, 8], [2, 9], [2, 10], [3, 1], [3, 2], [3, 3], [3, 4], [3, 5], [3, 6], [3, 7], [3, 8], [3, 9], [3, 10], [4, 1], [4, 2], [4, 3], [4, 4], [4, 5], [4, 6], [4, 7], [4, 8], [4, 9], [4, 10], [5, 1], [5, 2], [5, 3], [5, 4], [5, 5], [5, 6], [5, 7], [5, 8], [5, 9], [5, 10], [6, 1], [6, 2], [6, 3], [6, 4], [6, 5], [6, 6], [6, 7], [6, 8], [6, 9], [6, 10], [7, 1], [7, 2], [7, 3], [7, 4], [7, 5], [7, 6], [7, 7], [7, 8], [7, 9], [7, 10], [8, 1], [8, 2], [8, 3], [8, 4], [8, 5], [8, 6], [8, 7], [8, 8], [8, 9], [8, 10], [9, 1], [9, 2], [9, 3], [9, 4], [9, 5], [9, 6], [9, 7], [9, 8], [9, 9], [9, 10], [10, 1], [10, 2], [10, 3], [10, 4], [10, 5], [10, 6], [10, 7], [10, 8], [10, 9], [10, 10]]\n",
      "Part b:\n",
      "[[1, 2], [1, 3], [1, 4], [1, 5], [1, 6], [1, 7], [1, 8], [1, 9], [1, 10], [2, 3], [2, 4], [2, 5], [2, 6], [2, 7], [2, 8], [2, 9], [2, 10], [3, 4], [3, 5], [3, 6], [3, 7], [3, 8], [3, 9], [3, 10], [4, 5], [4, 6], [4, 7], [4, 8], [4, 9], [4, 10], [5, 6], [5, 7], [5, 8], [5, 9], [5, 10], [6, 7], [6, 8], [6, 9], [6, 10], [7, 8], [7, 9], [7, 10], [8, 9], [8, 10], [9, 10]]\n",
      "Part c:\n",
      "[5, 7, 9, 8, 10, 12]\n",
      "[5, 7, 9, 8, 10, 12]\n"
     ]
    },
    {
     "data": {
      "text/plain": [
       "False"
      ]
     },
     "execution_count": 42,
     "metadata": {},
     "output_type": "execute_result"
    }
   ],
   "source": [
    "n = 10\n",
    "# a)\n",
    "\n",
    "### START CODE HERE ###\n",
    "a = [[i,j] for i in range (1, n + 1) for j in range(1, n + 1)]\n",
    "### END CODE HERE ###\n",
    "\n",
    "\n",
    "# b)\n",
    "### START CODE HERE ###\n",
    "b = [[i,j] for i in range(1,n+1) for j in range(i+1,n+1)]\n",
    "### END CODE HERE ###\n",
    "\n",
    "\n",
    "# c)\n",
    "### START CODE HERE ###\n",
    "# using another function\n",
    "def is_prime(num):\n",
    "    if num < 2:\n",
    "        return False\n",
    "    for n in range(2,num):\n",
    "        if num % n == 0:\n",
    "            return False\n",
    "    else:\n",
    "        return True\n",
    "\n",
    "c1 = [i + j for i in range(1, n+1) for j in range(i+1, n+1) if (is_prime(i) and is_prime(j))]\n",
    "\n",
    "# one-line version:\n",
    "c2 = [i + j for i in range(1, n+1) for j in range(i+1, n+1) if( i != 1 and j != 1 and all(i % y != 0 for y in range(2, i)) and all(j % y != 0 for y in range(2, j)))]                                                      \n",
    "### END CODE HERE ###\n",
    "\n",
    "print(\"Part a:\")\n",
    "print(a)\n",
    "\n",
    "print(\"Part b:\")\n",
    "print(b)\n",
    "\n",
    "print(\"Part c:\")\n",
    "print(c1)\n",
    "print(c2)"
   ]
  },
  {
   "cell_type": "markdown",
   "metadata": {},
   "source": [
    "# 15. \n",
    "\n",
    ">Complete the body of the function below according to its docstring."
   ]
  },
  {
   "cell_type": "code",
   "execution_count": 43,
   "metadata": {},
   "outputs": [
    {
     "data": {
      "text/plain": [
       "[2002,\n",
       " 2009,\n",
       " 2016,\n",
       " 2023,\n",
       " 2037,\n",
       " 2044,\n",
       " 2051,\n",
       " 2058,\n",
       " 2072,\n",
       " 2079,\n",
       " 2086,\n",
       " 2093,\n",
       " 2107,\n",
       " 2114,\n",
       " 2121,\n",
       " 2128,\n",
       " 2142,\n",
       " 2149,\n",
       " 2156,\n",
       " 2163,\n",
       " 2177,\n",
       " 2184,\n",
       " 2191,\n",
       " 2198,\n",
       " 2212,\n",
       " 2219,\n",
       " 2226,\n",
       " 2233,\n",
       " 2247,\n",
       " 2254,\n",
       " 2261,\n",
       " 2268,\n",
       " 2282,\n",
       " 2289,\n",
       " 2296,\n",
       " 2303,\n",
       " 2317,\n",
       " 2324,\n",
       " 2331,\n",
       " 2338,\n",
       " 2352,\n",
       " 2359,\n",
       " 2366,\n",
       " 2373,\n",
       " 2387,\n",
       " 2394,\n",
       " 2401,\n",
       " 2408,\n",
       " 2422,\n",
       " 2429,\n",
       " 2436,\n",
       " 2443,\n",
       " 2457,\n",
       " 2464,\n",
       " 2471,\n",
       " 2478,\n",
       " 2492,\n",
       " 2499,\n",
       " 2506,\n",
       " 2513,\n",
       " 2527,\n",
       " 2534,\n",
       " 2541,\n",
       " 2548,\n",
       " 2562,\n",
       " 2569,\n",
       " 2576,\n",
       " 2583,\n",
       " 2597,\n",
       " 2604,\n",
       " 2611,\n",
       " 2618,\n",
       " 2632,\n",
       " 2639,\n",
       " 2646,\n",
       " 2653,\n",
       " 2667,\n",
       " 2674,\n",
       " 2681,\n",
       " 2688,\n",
       " 2702,\n",
       " 2709,\n",
       " 2716,\n",
       " 2723,\n",
       " 2737,\n",
       " 2744,\n",
       " 2751,\n",
       " 2758,\n",
       " 2772,\n",
       " 2779,\n",
       " 2786,\n",
       " 2793,\n",
       " 2807,\n",
       " 2814,\n",
       " 2821,\n",
       " 2828,\n",
       " 2842,\n",
       " 2849,\n",
       " 2856,\n",
       " 2863,\n",
       " 2877,\n",
       " 2884,\n",
       " 2891,\n",
       " 2898,\n",
       " 2912,\n",
       " 2919,\n",
       " 2926,\n",
       " 2933,\n",
       " 2947,\n",
       " 2954,\n",
       " 2961,\n",
       " 2968,\n",
       " 2982,\n",
       " 2989,\n",
       " 2996,\n",
       " 3003,\n",
       " 3017,\n",
       " 3024,\n",
       " 3031,\n",
       " 3038,\n",
       " 3052,\n",
       " 3059,\n",
       " 3066,\n",
       " 3073,\n",
       " 3087,\n",
       " 3094,\n",
       " 3101,\n",
       " 3108,\n",
       " 3122,\n",
       " 3129,\n",
       " 3136,\n",
       " 3143,\n",
       " 3157,\n",
       " 3164,\n",
       " 3171,\n",
       " 3178,\n",
       " 3192,\n",
       " 3199]"
      ]
     },
     "execution_count": 43,
     "metadata": {},
     "output_type": "execute_result"
    }
   ],
   "source": [
    "def my_func():\n",
    "    \"\"\"Write a function which will return a list contains all such numbers which are divisible by 7 but are not a multiple\n",
    "    of 5, between 2000 and 3200 (both included).\n",
    "    \"\"\"\n",
    "    return [x for x in range(2000,3201) if (x%7==0 and x%5!=0)]\n",
    "\n",
    "my_func()"
   ]
  },
  {
   "cell_type": "markdown",
   "metadata": {},
   "source": [
    "# 16.\n",
    "\n",
    ">Write a program that accepts a sentence and calculate the number of letters and digits.\n",
    "Suppose the following input is supplied to the program:\n",
    "\n",
    "        hello world! 123\n",
    ">Then, the output should be:\n",
    "\n",
    ">>LETTERS 10\n",
    "\n",
    ">>DIGITS 3"
   ]
  },
  {
   "cell_type": "code",
   "execution_count": 57,
   "metadata": {},
   "outputs": [
    {
     "name": "stdout",
     "output_type": "stream",
     "text": [
      "Enter a sentence: lkadflkdfjsdk 15 @$#!#@\n",
      "LETTERS  13\n",
      "DIGITS  2\n"
     ]
    }
   ],
   "source": [
    "### START CODE HERE ###\n",
    "\n",
    "string = input(\"Enter a sentence: \")\n",
    "\n",
    "digits = [stri for stri in string if stri.isdigit()]\n",
    "letters = [stri for stri in string if stri.isalpha()]\n",
    "print(\"LETTERS \", len(letters))\n",
    "print(\"DIGITS \", len(digits))\n",
    "\n",
    "### END CODE HERE ###"
   ]
  },
  {
   "cell_type": "markdown",
   "metadata": {},
   "source": [
    "# 17.\n",
    "Write a function to sort a list of tuples (name, age, height) by ascending order\n",
    "where name is string, age and height are numbers. The sort\n",
    "criteria is:\n",
    "\n",
    "* 1: Sort based on name;\n",
    "* 2: Then sort based on age;\n",
    "* 3: Then sort by score.\n",
    "\n",
    "The priority is that name > age > score.\n",
    "If the following list is given as input to the function:\n",
    ">[('Taha',19,80), ('Farhad',20,90), ('Farrokh',17,91), ('Farrokh',17,93), ('Fatemeh',21,85)]\n",
    "\n",
    "Then, the output of the program should be:\n",
    ">[('Farhad', '20', '90'), ('Farrokh', '17', '91'), ('Farrokh', '17', '93'), ('Fatemeh', '21', '85'), ('Taha', '19', '80')]"
   ]
  },
  {
   "cell_type": "code",
   "execution_count": 51,
   "metadata": {},
   "outputs": [
    {
     "data": {
      "text/plain": [
       "[('Farhad', 20, 90),\n",
       " ('Farrokh', 17, 91),\n",
       " ('Farrokh', 17, 93),\n",
       " ('Fatemeh', 21, 85),\n",
       " ('Taha', 19, 80)]"
      ]
     },
     "execution_count": 51,
     "metadata": {},
     "output_type": "execute_result"
    }
   ],
   "source": [
    "def sortTuple(inputList):\n",
    "    return sorted(inputList)\n",
    "\n",
    "sortTuple([('Taha',19,80), ('Farhad',20,90), ('Farrokh',17,91), ('Farrokh',17,93), ('Fatemeh',21,85)])"
   ]
  },
  {
   "cell_type": "markdown",
   "metadata": {},
   "source": [
    "# 18. \n",
    "\n",
    "> What does the function below do? Which built-in function that we mentioned in the class has the same function? Rewrite the example using that function."
   ]
  },
  {
   "cell_type": "code",
   "execution_count": 52,
   "metadata": {},
   "outputs": [
    {
     "name": "stdout",
     "output_type": "stream",
     "text": [
      "[3, 2, 3]\n",
      "[3, 2, 3]\n"
     ]
    }
   ],
   "source": [
    "def MY_FUNC(func, collection):\n",
    "    output = []\n",
    "    for element in collection:\n",
    "        output += [func(element)]\n",
    "    return output\n",
    "\n",
    "# Example:\n",
    "print( MY_FUNC(max, [[1, 2, 3], [-1, 0, 2], (3, 0, 3)]) )\n",
    "\n",
    "### START CODE HERE ###\n",
    "print( list(map(max,[[1, 2, 3], [-1, 0, 2], (3, 0, 3)])) )\n",
    "### END CODE HERE ###"
   ]
  }
 ],
 "metadata": {
  "kernelspec": {
   "display_name": "Python 3",
   "language": "python",
   "name": "python3"
  },
  "language_info": {
   "codemirror_mode": {
    "name": "ipython",
    "version": 3
   },
   "file_extension": ".py",
   "mimetype": "text/x-python",
   "name": "python",
   "nbconvert_exporter": "python",
   "pygments_lexer": "ipython3",
   "version": "3.8.5"
  }
 },
 "nbformat": 4,
 "nbformat_minor": 4
}