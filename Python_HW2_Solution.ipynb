{
 "cells": [
  {
   "cell_type": "markdown",
   "metadata": {},
   "source": [
    "<h1 align=\"center\">An Introduction to Machine Learning - 25737</h1>\n",
    "<h4 align=\"center\">Dr. Hoda Mohammadzade</h4>\n",
    "<h4 align=\"center\">Sharif University of Technology, Fall 2021</h4>\n",
    "\n",
    "# \n",
    "\n",
    "# Problem Set 02\n",
    "\n",
    "Welcome to your second assignment. This exercise gives you a brief introduction to Python. \n",
    "\n",
    "> **Instructions:**\n",
    "> * You will be using Python 3.\n",
    "> * Please upload your assignment on CW.\n",
    "> * Your file name should be in format of HW2_Name_StudentID\n",
    "> * Do not upload other students’ answers.\n",
    "\n",
    "Let's get started!\n",
    "\n",
    "\n"
   ]
  },
  {
   "cell_type": "markdown",
   "metadata": {},
   "source": [
    "## Import \n",
    ">Put all of your imports for this file in the below cell."
   ]
  },
  {
   "cell_type": "code",
   "execution_count": 1,
   "metadata": {},
   "outputs": [],
   "source": [
    "### START CODE HERE ###\n",
    "import numpy as np\n",
    "import pandas as pd\n",
    "from matplotlib import pyplot as plt\n",
    "### END CODE HERE ###"
   ]
  },
  {
   "cell_type": "markdown",
   "metadata": {},
   "source": [
    "# Question 1"
   ]
  },
  {
   "cell_type": "markdown",
   "metadata": {},
   "source": [
    "## Array creation\n",
    ">Create the followings to numpy array:\n",
    "* A: a 3\\*3 array like this:\n",
    "$$\n",
    "A = \\left(\\begin{array}{cc} \n",
    "10 & 20 & 30\\\\\n",
    "5 & 10 & 15\\\\\n",
    "1 & 5 & 8\n",
    "\\end{array}\\right)\n",
    "$$ \n",
    "* B: a 3\\*3\\*4 that filled with the numbers start from 15 and have steps of 5 to the end. The array should be filled first along the first dimension then the second dimension and at last the third dimension. like this:\n",
    "$$\n",
    "B[:, :, 0] = \\left(\\begin{array}{cc} \n",
    "15 & 30 & 45\\\\\n",
    "20 & 35 & 50\\\\\n",
    "25 & 40 & 55\n",
    "\\end{array}\\right)\n",
    "$$ "
   ]
  },
  {
   "cell_type": "code",
   "execution_count": 2,
   "metadata": {},
   "outputs": [
    {
     "name": "stdout",
     "output_type": "stream",
     "text": [
      "A =  [[10 20 30]\n",
      " [ 5 10 15]\n",
      " [ 1  5  8]] \n",
      "\n",
      "\n",
      "B =  [[[ 15.  60. 105. 150.]\n",
      "  [ 30.  75. 120. 165.]\n",
      "  [ 45.  90. 135. 180.]]\n",
      "\n",
      " [[ 20.  65. 110. 155.]\n",
      "  [ 35.  80. 125. 170.]\n",
      "  [ 50.  95. 140. 185.]]\n",
      "\n",
      " [[ 25.  70. 115. 160.]\n",
      "  [ 40.  85. 130. 175.]\n",
      "  [ 55. 100. 145. 190.]]]\n"
     ]
    }
   ],
   "source": [
    "### START CODE HERE ###\n",
    "\n",
    "A = np.array([[10, 20, 30], [5, 10, 15], [1, 5, 8]])\n",
    "print('A = ', A, '\\n\\n')\n",
    "\n",
    "B = np.zeros((3, 3, 4))\n",
    "B[:,:,0] = [[15,30,45], [20,35,50], [25,40,55]]\n",
    "B[:,:,1] = [[60,75,90], [65,80,95], [70,85,100]]\n",
    "B[:,:,2] = [[105,120,135], [110,125,140], [115,130,145]]\n",
    "B[:,:,3] = [[150,165,180], [155,170,185], [160,175,190]]\n",
    "print('B = ', B)\n",
    "\n",
    "### END CODE HERE ###"
   ]
  },
  {
   "cell_type": "markdown",
   "metadata": {},
   "source": [
    "## Replacement\n",
    ">Replace the last slice of array B (B[:, :, 3]) with values of A. Then print the result."
   ]
  },
  {
   "cell_type": "code",
   "execution_count": 3,
   "metadata": {},
   "outputs": [
    {
     "name": "stdout",
     "output_type": "stream",
     "text": [
      "B =  [[[ 15.  60. 105.  10.]\n",
      "  [ 30.  75. 120.  20.]\n",
      "  [ 45.  90. 135.  30.]]\n",
      "\n",
      " [[ 20.  65. 110.   5.]\n",
      "  [ 35.  80. 125.  10.]\n",
      "  [ 50.  95. 140.  15.]]\n",
      "\n",
      " [[ 25.  70. 115.   1.]\n",
      "  [ 40.  85. 130.   5.]\n",
      "  [ 55. 100. 145.   8.]]]\n"
     ]
    }
   ],
   "source": [
    "### START CODE HERE ###\n",
    "B[:,:,3] = A.copy()\n",
    "print('B = ', B)\n",
    "### END CODE HERE ###"
   ]
  },
  {
   "cell_type": "markdown",
   "metadata": {},
   "source": [
    "## Axis Swap \n",
    ">Swap the first(B[:, :, 0]) and last(B[:, :, 3]) slice of the array B **only with one line of code**. Then print the result."
   ]
  },
  {
   "cell_type": "code",
   "execution_count": 4,
   "metadata": {},
   "outputs": [
    {
     "name": "stdout",
     "output_type": "stream",
     "text": [
      "B =  [[[ 10.  60. 105.  15.]\n",
      "  [ 20.  75. 120.  30.]\n",
      "  [ 30.  90. 135.  45.]]\n",
      "\n",
      " [[  5.  65. 110.  20.]\n",
      "  [ 10.  80. 125.  35.]\n",
      "  [ 15.  95. 140.  50.]]\n",
      "\n",
      " [[  1.  70. 115.  25.]\n",
      "  [  5.  85. 130.  40.]\n",
      "  [  8. 100. 145.  55.]]]\n"
     ]
    }
   ],
   "source": [
    "### START CODE HERE ###\n",
    "B[:,:,0], B[:,:,3] = B[:,:,3], B[:,:,0].copy()\n",
    "print('B = ', B)\n",
    "### END CODE HERE ###"
   ]
  },
  {
   "cell_type": "markdown",
   "metadata": {},
   "source": [
    "## Transposing \n",
    ">Transpose the array B elements in each slice. Then print the result."
   ]
  },
  {
   "cell_type": "code",
   "execution_count": 5,
   "metadata": {},
   "outputs": [
    {
     "name": "stdout",
     "output_type": "stream",
     "text": [
      "B =  [[[ 10.  60. 105.  15.]\n",
      "  [  5.  65. 110.  20.]\n",
      "  [  1.  70. 115.  25.]]\n",
      "\n",
      " [[ 20.  75. 120.  30.]\n",
      "  [ 10.  80. 125.  35.]\n",
      "  [  5.  85. 130.  40.]]\n",
      "\n",
      " [[ 30.  90. 135.  45.]\n",
      "  [ 15.  95. 140.  50.]\n",
      "  [  8. 100. 145.  55.]]]\n"
     ]
    }
   ],
   "source": [
    "### START CODE HERE ###\n",
    "for i in range(4):\n",
    "    B[:,:,i] = B[:,:,i].T\n",
    "\n",
    "print('B = ', B)\n",
    "### END CODE HERE ###"
   ]
  },
  {
   "cell_type": "markdown",
   "metadata": {},
   "source": [
    "## Matrix Multiplication\n",
    ">Calculate the matrix multiplication of all slices of the array B. \n",
    "(B[:, :, 0] \\* B[:, :, 1] \\* B[:, :, 2] \\* B[:, :, 3]). Then print the result.\n",
    "\n",
    ">**Note**: the result should be a 3\\*3 array. "
   ]
  },
  {
   "cell_type": "code",
   "execution_count": 6,
   "metadata": {},
   "outputs": [
    {
     "name": "stdout",
     "output_type": "stream",
     "text": [
      "[[3.93750000e+07 4.58516250e+07 5.23282500e+07]\n",
      " [8.85375000e+07 1.03100625e+08 1.17663750e+08]\n",
      " [1.34437500e+08 1.56550500e+08 1.78663500e+08]]\n"
     ]
    }
   ],
   "source": [
    "### START CODE HERE ###\n",
    "B_mult = B[:,:,0] @ B[:,:,1] @ B[:,:,2] @ B[:,:,3]\n",
    "print(B_mult)\n",
    "### END CODE HERE ###"
   ]
  },
  {
   "cell_type": "markdown",
   "metadata": {},
   "source": [
    "## Determinant\n",
    ">Calculate the determinant of the array A and print it."
   ]
  },
  {
   "cell_type": "code",
   "execution_count": 7,
   "metadata": {},
   "outputs": [
    {
     "name": "stdout",
     "output_type": "stream",
     "text": [
      "0.0\n"
     ]
    }
   ],
   "source": [
    "### START CODE HERE ###\n",
    "print(np.linalg.det(A))\n",
    "### END CODE HERE ###"
   ]
  },
  {
   "cell_type": "markdown",
   "metadata": {},
   "source": [
    "# Question 2"
   ]
  },
  {
   "cell_type": "markdown",
   "metadata": {},
   "source": [
    "## Loading dataset\n",
    ">Load the IMDB-Movie-Data.csv file into a pandas dataframe and show its first 5 rows. Each row of this dataframe corresponds to one film."
   ]
  },
  {
   "cell_type": "code",
   "execution_count": 8,
   "metadata": {},
   "outputs": [
    {
     "data": {
      "text/html": [
       "<div>\n",
       "<style scoped>\n",
       "    .dataframe tbody tr th:only-of-type {\n",
       "        vertical-align: middle;\n",
       "    }\n",
       "\n",
       "    .dataframe tbody tr th {\n",
       "        vertical-align: top;\n",
       "    }\n",
       "\n",
       "    .dataframe thead th {\n",
       "        text-align: right;\n",
       "    }\n",
       "</style>\n",
       "<table border=\"1\" class=\"dataframe\">\n",
       "  <thead>\n",
       "    <tr style=\"text-align: right;\">\n",
       "      <th></th>\n",
       "      <th>Rank</th>\n",
       "      <th>Title</th>\n",
       "      <th>Genre</th>\n",
       "      <th>Description</th>\n",
       "      <th>Director</th>\n",
       "      <th>Actors</th>\n",
       "      <th>Year</th>\n",
       "      <th>Runtime (Minutes)</th>\n",
       "      <th>Rating</th>\n",
       "      <th>Votes</th>\n",
       "      <th>Revenue (Millions)</th>\n",
       "      <th>Metascore</th>\n",
       "    </tr>\n",
       "  </thead>\n",
       "  <tbody>\n",
       "    <tr>\n",
       "      <th>0</th>\n",
       "      <td>1</td>\n",
       "      <td>Guardians of the Galaxy</td>\n",
       "      <td>Action,Adventure,Sci-Fi</td>\n",
       "      <td>A group of intergalactic criminals are forced ...</td>\n",
       "      <td>James Gunn</td>\n",
       "      <td>Chris Pratt, Vin Diesel, Bradley Cooper, Zoe S...</td>\n",
       "      <td>2014</td>\n",
       "      <td>121</td>\n",
       "      <td>8.1</td>\n",
       "      <td>757074</td>\n",
       "      <td>333.13</td>\n",
       "      <td>76.0</td>\n",
       "    </tr>\n",
       "    <tr>\n",
       "      <th>1</th>\n",
       "      <td>2</td>\n",
       "      <td>Prometheus</td>\n",
       "      <td>Adventure,Mystery,Sci-Fi</td>\n",
       "      <td>Following clues to the origin of mankind, a te...</td>\n",
       "      <td>Ridley Scott</td>\n",
       "      <td>Noomi Rapace, Logan Marshall-Green, Michael Fa...</td>\n",
       "      <td>2012</td>\n",
       "      <td>124</td>\n",
       "      <td>7.0</td>\n",
       "      <td>485820</td>\n",
       "      <td>126.46</td>\n",
       "      <td>65.0</td>\n",
       "    </tr>\n",
       "    <tr>\n",
       "      <th>2</th>\n",
       "      <td>3</td>\n",
       "      <td>Split</td>\n",
       "      <td>Horror,Thriller</td>\n",
       "      <td>Three girls are kidnapped by a man with a diag...</td>\n",
       "      <td>M. Night Shyamalan</td>\n",
       "      <td>James McAvoy, Anya Taylor-Joy, Haley Lu Richar...</td>\n",
       "      <td>2016</td>\n",
       "      <td>117</td>\n",
       "      <td>7.3</td>\n",
       "      <td>157606</td>\n",
       "      <td>138.12</td>\n",
       "      <td>62.0</td>\n",
       "    </tr>\n",
       "    <tr>\n",
       "      <th>3</th>\n",
       "      <td>4</td>\n",
       "      <td>Sing</td>\n",
       "      <td>Animation,Comedy,Family</td>\n",
       "      <td>In a city of humanoid animals, a hustling thea...</td>\n",
       "      <td>Christophe Lourdelet</td>\n",
       "      <td>Matthew McConaughey,Reese Witherspoon, Seth Ma...</td>\n",
       "      <td>2016</td>\n",
       "      <td>108</td>\n",
       "      <td>7.2</td>\n",
       "      <td>60545</td>\n",
       "      <td>270.32</td>\n",
       "      <td>59.0</td>\n",
       "    </tr>\n",
       "    <tr>\n",
       "      <th>4</th>\n",
       "      <td>5</td>\n",
       "      <td>Suicide Squad</td>\n",
       "      <td>Action,Adventure,Fantasy</td>\n",
       "      <td>A secret government agency recruits some of th...</td>\n",
       "      <td>David Ayer</td>\n",
       "      <td>Will Smith, Jared Leto, Margot Robbie, Viola D...</td>\n",
       "      <td>2016</td>\n",
       "      <td>123</td>\n",
       "      <td>6.2</td>\n",
       "      <td>393727</td>\n",
       "      <td>325.02</td>\n",
       "      <td>40.0</td>\n",
       "    </tr>\n",
       "  </tbody>\n",
       "</table>\n",
       "</div>"
      ],
      "text/plain": [
       "   Rank                    Title                     Genre  \\\n",
       "0     1  Guardians of the Galaxy   Action,Adventure,Sci-Fi   \n",
       "1     2               Prometheus  Adventure,Mystery,Sci-Fi   \n",
       "2     3                    Split           Horror,Thriller   \n",
       "3     4                     Sing   Animation,Comedy,Family   \n",
       "4     5            Suicide Squad  Action,Adventure,Fantasy   \n",
       "\n",
       "                                         Description              Director  \\\n",
       "0  A group of intergalactic criminals are forced ...            James Gunn   \n",
       "1  Following clues to the origin of mankind, a te...          Ridley Scott   \n",
       "2  Three girls are kidnapped by a man with a diag...    M. Night Shyamalan   \n",
       "3  In a city of humanoid animals, a hustling thea...  Christophe Lourdelet   \n",
       "4  A secret government agency recruits some of th...            David Ayer   \n",
       "\n",
       "                                              Actors  Year  Runtime (Minutes)  \\\n",
       "0  Chris Pratt, Vin Diesel, Bradley Cooper, Zoe S...  2014                121   \n",
       "1  Noomi Rapace, Logan Marshall-Green, Michael Fa...  2012                124   \n",
       "2  James McAvoy, Anya Taylor-Joy, Haley Lu Richar...  2016                117   \n",
       "3  Matthew McConaughey,Reese Witherspoon, Seth Ma...  2016                108   \n",
       "4  Will Smith, Jared Leto, Margot Robbie, Viola D...  2016                123   \n",
       "\n",
       "   Rating   Votes  Revenue (Millions)  Metascore  \n",
       "0     8.1  757074              333.13       76.0  \n",
       "1     7.0  485820              126.46       65.0  \n",
       "2     7.3  157606              138.12       62.0  \n",
       "3     7.2   60545              270.32       59.0  \n",
       "4     6.2  393727              325.02       40.0  "
      ]
     },
     "execution_count": 8,
     "metadata": {},
     "output_type": "execute_result"
    }
   ],
   "source": [
    "### START CODE HERE ###\n",
    "DATA = pd.read_csv('IMDB-Movie-Data.csv')\n",
    "DATA.head()\n",
    "### END CODE HERE ###"
   ]
  },
  {
   "cell_type": "markdown",
   "metadata": {},
   "source": [
    "## Actors/Actresses Activity\n",
    ">For each Actors/Actresses caculate the number of movies in the dataframe, then sort the actors/actresses first by their number of movies in descending order and then by their name in ascending order. "
   ]
  },
  {
   "cell_type": "code",
   "execution_count": 17,
   "metadata": {},
   "outputs": [
    {
     "name": "stdout",
     "output_type": "stream",
     "text": [
      "                      Names Num_of_Movies\n",
      "0             Mark Wahlberg            15\n",
      "1              Hugh Jackman            14\n",
      "2                 Brad Pitt            13\n",
      "3            Christian Bale            13\n",
      "4             Anne Hathaway            12\n",
      "...                     ...           ...\n",
      "1980       Zachery Ty Bryan             1\n",
      "1981              Zoe Kazan             1\n",
      "1982         Émilie Leclerc             1\n",
      "1983  Ólafur Darri Ólafsson             1\n",
      "1984          Óscar Jaenada             1\n",
      "\n",
      "[1985 rows x 2 columns]\n"
     ]
    }
   ],
   "source": [
    "### START CODE HERE ###\n",
    "Actors_uniqe_list = []\n",
    "Actors_df = DATA['Actors']\n",
    "\n",
    "for item in Actors_df:\n",
    "    Actors_row = item.split(',')\n",
    "    for Actor in Actors_row:\n",
    "        if(Actor.strip() not in Actors_uniqe_list):\n",
    "            Actors_uniqe_list.append(Actor.strip())\n",
    "\n",
    "Num_of_movies = len(Actors_uniqe_list)*[0]\n",
    "\n",
    "for item in Actors_df:\n",
    "    Actors_row = item.split(',')\n",
    "    for Actor in Actors_row:\n",
    "        Num_of_movies[Actors_uniqe_list.index(Actor.strip())] += 1\n",
    "\n",
    "final_list = []\n",
    "for i in range(len(Num_of_movies)):\n",
    "    final_list.append((Actors_uniqe_list[i], Num_of_movies[i]))\n",
    "\n",
    "data_out = np.array(sorted(final_list , key = lambda x: (-x[1], x[0]) , reverse = False))\n",
    "df_out = pd.DataFrame( data = data_out , columns=['Names' , 'Num_of_Movies'])\n",
    "\n",
    "print(df_out)\n",
    "### END CODE HERE ###"
   ]
  },
  {
   "cell_type": "markdown",
   "metadata": {},
   "source": [
    "## Score Histogram\n",
    ">Draw the histogram of metascores and ratings. "
   ]
  },
  {
   "cell_type": "code",
   "execution_count": 27,
   "metadata": {},
   "outputs": [
    {
     "data": {
      "text/plain": [
       "<AxesSubplot:>"
      ]
     },
     "execution_count": 27,
     "metadata": {},
     "output_type": "execute_result"
    },
    {
     "data": {
      "image/png": "[encoded data removed]",
      "text/plain": [
       "<Figure size 720x360 with 2 Axes>"
      ]
     },
     "metadata": {
      "needs_background": "light"
     },
     "output_type": "display_data"
    }
   ],
   "source": [
    "### START CODE HERE ###\n",
    "plt.figure(figsize= (10, 5))\n",
    "plt.subplot(1,2,1)\n",
    "DATA['Metascore'].hist()\n",
    "plt.subplot(1,2,2)\n",
    "DATA['Rating'].hist()\n",
    "### END CODE HERE ###"
   ]
  },
  {
   "cell_type": "markdown",
   "metadata": {},
   "source": [
    "## Correlations\n",
    ">Calculate the correlation between rating, votes and metascore of the movies.\n",
    "Is there any meaningful relation between these features? "
   ]
  },
  {
   "cell_type": "code",
   "execution_count": 23,
   "metadata": {},
   "outputs": [
    {
     "data": {
      "text/html": [
       "<div>\n",
       "<style scoped>\n",
       "    .dataframe tbody tr th:only-of-type {\n",
       "        vertical-align: middle;\n",
       "    }\n",
       "\n",
       "    .dataframe tbody tr th {\n",
       "        vertical-align: top;\n",
       "    }\n",
       "\n",
       "    .dataframe thead th {\n",
       "        text-align: right;\n",
       "    }\n",
       "</style>\n",
       "<table border=\"1\" class=\"dataframe\">\n",
       "  <thead>\n",
       "    <tr style=\"text-align: right;\">\n",
       "      <th></th>\n",
       "      <th>Rating</th>\n",
       "      <th>Metascore</th>\n",
       "      <th>Votes</th>\n",
       "    </tr>\n",
       "  </thead>\n",
       "  <tbody>\n",
       "    <tr>\n",
       "      <th>Rating</th>\n",
       "      <td>1.000000</td>\n",
       "      <td>0.631897</td>\n",
       "      <td>0.511537</td>\n",
       "    </tr>\n",
       "    <tr>\n",
       "      <th>Metascore</th>\n",
       "      <td>0.631897</td>\n",
       "      <td>1.000000</td>\n",
       "      <td>0.325684</td>\n",
       "    </tr>\n",
       "    <tr>\n",
       "      <th>Votes</th>\n",
       "      <td>0.511537</td>\n",
       "      <td>0.325684</td>\n",
       "      <td>1.000000</td>\n",
       "    </tr>\n",
       "  </tbody>\n",
       "</table>\n",
       "</div>"
      ],
      "text/plain": [
       "             Rating  Metascore     Votes\n",
       "Rating     1.000000   0.631897  0.511537\n",
       "Metascore  0.631897   1.000000  0.325684\n",
       "Votes      0.511537   0.325684  1.000000"
      ]
     },
     "execution_count": 23,
     "metadata": {},
     "output_type": "execute_result"
    }
   ],
   "source": [
    "### START CODE HERE ###\n",
    "DATA[['Rating', 'Metascore', 'Votes']].corr()\n",
    "### END CODE HERE ###"
   ]
  },
  {
   "cell_type": "markdown",
   "metadata": {},
   "source": [
    "# Question 3"
   ]
  },
  {
   "cell_type": "markdown",
   "metadata": {},
   "source": [
    "## File\n",
    "> Craet a .txt file and name it \"Name_actors\". You must write the name of all actors/actresses in the IMDB-Movie-Data.csv file. Don't write a name multiple time and write each name in a new line."
   ]
  },
  {
   "cell_type": "code",
   "execution_count": 28,
   "metadata": {},
   "outputs": [],
   "source": [
    "### START CODE HERE ###\n",
    "\n",
    "with open('Name_actors.txt', 'a') as f:\n",
    "    for item in Actors_uniqe_list:\n",
    "        f.write(item+'\\n')\n",
    "### END CODE HERE ###"
   ]
  },
  {
   "cell_type": "markdown",
   "metadata": {},
   "source": [
    "# Question 4"
   ]
  },
  {
   "cell_type": "markdown",
   "metadata": {},
   "source": [
    "## Plot\n",
    ">You must plot the number of movies in each year according to the IMDB-Movie-Data.csv file. X-axis is year and y-axis show the number of movies in each year.\n",
    "> set the x_label, y_label and title for your plot."
   ]
  },
  {
   "cell_type": "code",
   "execution_count": 38,
   "metadata": {},
   "outputs": [
    {
     "data": {
      "text/plain": [
       "Text(0.5, 1.0, 'Num of Movies in each Year')"
      ]
     },
     "execution_count": 38,
     "metadata": {},
     "output_type": "execute_result"
    },
    {
     "data": {
      "image/png": "[encoded data removed]",
      "text/plain": [
       "<Figure size 720x360 with 1 Axes>"
      ]
     },
     "metadata": {
      "needs_background": "light"
     },
     "output_type": "display_data"
    }
   ],
   "source": [
    "### START CODE HERE ###\n",
    "Year_list = list(set(DATA['Year']))\n",
    "Year_list.sort()\n",
    "\n",
    "Movie_hist = len(Year_list) * [0]\n",
    "\n",
    "for item in DATA['Year']:\n",
    "    Movie_hist[Year_list.index(item)] += 1\n",
    "\n",
    "plt.figure(figsize=(10,5))\n",
    "plt.xticks(np.arange(2005 , 2018))\n",
    "plt.grid()\n",
    "plt.scatter(Year_list, Movie_hist)\n",
    "plt.plot(Year_list, Movie_hist, 'r-')\n",
    "plt.xlabel(\"Year\")\n",
    "plt.ylabel(\"Num of Movies\")\n",
    "plt.title(\"Num of Movies in each Year\")\n",
    "### END CODE HERE ###"
   ]
  },
  {
   "cell_type": "markdown",
   "metadata": {},
   "source": [
    "## Plot\n",
    ">You must plot the cos(x) curve. plot 20 cycle of the curve. the frequency of first half of curve is 50 Hz and frequency of second lalf is 200 Hz. \n",
    "> set the x_label, y_label and title for your plot."
   ]
  },
  {
   "cell_type": "code",
   "execution_count": 30,
   "metadata": {},
   "outputs": [
    {
     "data": {
      "text/plain": [
       "Text(0, 0.5, 'Cos(X)')"
      ]
     },
     "execution_count": 30,
     "metadata": {},
     "output_type": "execute_result"
    },
    {
     "data": {
      "image/png": "[encoded data removed]",
      "text/plain": [
       "<Figure size 1080x360 with 1 Axes>"
      ]
     },
     "metadata": {
      "needs_background": "light"
     },
     "output_type": "display_data"
    }
   ],
   "source": [
    "### START CODE HERE ###\n",
    "X1 = np.arange(0 , 10/50 , 0.00001)\n",
    "Y1 = np.cos(2*np.pi*50*X1)\n",
    "X2 = np.arange(10/50 , 10/50+10/200, 0.00001)\n",
    "Y2 = np.cos(2*np.pi*200*X2)\n",
    "\n",
    "plt.figure(figsize=(15,5))  \n",
    "plt.grid()\n",
    "plt.plot(np.concatenate((X1,X2)), np.concatenate((Y1,Y2)))\n",
    "plt.title(\"Plot of Cos(x) with variable frequency\")\n",
    "plt.xlabel(\"X\")\n",
    "plt.ylabel(\"Cos(X)\")\n",
    "### END CODE HERE ###"
   ]
  }
 ],
 "metadata": {
  "interpreter": {
   "hash": "d8283cc4fef7fdfd79fce9ff4c59fb46bb636ce565bf5e011ed8cd98646ea4d5"
  },
  "kernelspec": {
   "display_name": "Python 3",
   "language": "python",
   "name": "python3"
  },
  "language_info": {
   "codemirror_mode": {
    "name": "ipython",
    "version": 3
   },
   "file_extension": ".py",
   "mimetype": "text/x-python",
   "name": "python",
   "nbconvert_exporter": "python",
   "pygments_lexer": "ipython3",
   "version": "3.8.5"
  }
 },
 "nbformat": 4,
 "nbformat_minor": 2
}
